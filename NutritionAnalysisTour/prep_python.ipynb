{
 "cells": [
  {
   "cell_type": "markdown",
   "id": "7894f3c6-f6c9-4ab8-8039-f1175a97aa1c",
   "metadata": {},
   "source": [
    "# Nutrition Analysis Tour\n",
    "## Action: Prepare .csv file for optimization analysis\n",
    "## Language/tool: Python (Pandas)\n",
    "---"
   ]
  },
  {
   "cell_type": "code",
   "execution_count": 1,
   "id": "eda2d38f-61a5-4686-b2c4-329922aa4ad3",
   "metadata": {},
   "outputs": [],
   "source": [
    "import pandas as pd"
   ]
  },
  {
   "cell_type": "code",
   "execution_count": 2,
   "id": "b79781ae-8d22-41d2-ab81-722350ad283b",
   "metadata": {},
   "outputs": [
    {
     "data": {
      "text/html": [
       "<div>\n",
       "<style scoped>\n",
       "    .dataframe tbody tr th:only-of-type {\n",
       "        vertical-align: middle;\n",
       "    }\n",
       "\n",
       "    .dataframe tbody tr th {\n",
       "        vertical-align: top;\n",
       "    }\n",
       "\n",
       "    .dataframe thead th {\n",
       "        text-align: right;\n",
       "    }\n",
       "</style>\n",
       "<table border=\"1\" class=\"dataframe\">\n",
       "  <thead>\n",
       "    <tr style=\"text-align: right;\">\n",
       "      <th></th>\n",
       "      <th>category</th>\n",
       "      <th>name</th>\n",
       "      <th>size_oz</th>\n",
       "      <th>milk_type</th>\n",
       "      <th>calories</th>\n",
       "      <th>calories_%dv</th>\n",
       "      <th>caffeine_mg</th>\n",
       "      <th>caffeine_%dv</th>\n",
       "      <th>total_fat_g</th>\n",
       "      <th>fat_%dv</th>\n",
       "      <th>...</th>\n",
       "      <th>carbs_g</th>\n",
       "      <th>chol_mg</th>\n",
       "      <th>fiber_g</th>\n",
       "      <th>sugars_g</th>\n",
       "      <th>sugars_%dv</th>\n",
       "      <th>protein_g</th>\n",
       "      <th>vit_a_%dv</th>\n",
       "      <th>vit_c_%dv</th>\n",
       "      <th>calcium_%dv</th>\n",
       "      <th>iron_%dv</th>\n",
       "    </tr>\n",
       "  </thead>\n",
       "  <tbody>\n",
       "    <tr>\n",
       "      <th>0</th>\n",
       "      <td>Classic Espresso Drinks</td>\n",
       "      <td>Caffè Latte</td>\n",
       "      <td>8</td>\n",
       "      <td>Nonfat</td>\n",
       "      <td>70</td>\n",
       "      <td>4.0</td>\n",
       "      <td>75</td>\n",
       "      <td>19.0</td>\n",
       "      <td>0.0</td>\n",
       "      <td>0.0</td>\n",
       "      <td>...</td>\n",
       "      <td>75</td>\n",
       "      <td>10</td>\n",
       "      <td>0</td>\n",
       "      <td>9</td>\n",
       "      <td>18.0</td>\n",
       "      <td>6.0</td>\n",
       "      <td>10</td>\n",
       "      <td>0</td>\n",
       "      <td>20</td>\n",
       "      <td>0</td>\n",
       "    </tr>\n",
       "    <tr>\n",
       "      <th>1</th>\n",
       "      <td>Classic Espresso Drinks</td>\n",
       "      <td>Caffè Latte</td>\n",
       "      <td>8</td>\n",
       "      <td>2%</td>\n",
       "      <td>100</td>\n",
       "      <td>5.0</td>\n",
       "      <td>75</td>\n",
       "      <td>19.0</td>\n",
       "      <td>4.0</td>\n",
       "      <td>4.0</td>\n",
       "      <td>...</td>\n",
       "      <td>85</td>\n",
       "      <td>10</td>\n",
       "      <td>0</td>\n",
       "      <td>9</td>\n",
       "      <td>18.0</td>\n",
       "      <td>6.0</td>\n",
       "      <td>10</td>\n",
       "      <td>0</td>\n",
       "      <td>20</td>\n",
       "      <td>0</td>\n",
       "    </tr>\n",
       "    <tr>\n",
       "      <th>2</th>\n",
       "      <td>Classic Espresso Drinks</td>\n",
       "      <td>Caffè Latte</td>\n",
       "      <td>8</td>\n",
       "      <td>Soy</td>\n",
       "      <td>70</td>\n",
       "      <td>4.0</td>\n",
       "      <td>75</td>\n",
       "      <td>19.0</td>\n",
       "      <td>2.0</td>\n",
       "      <td>3.0</td>\n",
       "      <td>...</td>\n",
       "      <td>65</td>\n",
       "      <td>6</td>\n",
       "      <td>1</td>\n",
       "      <td>4</td>\n",
       "      <td>8.0</td>\n",
       "      <td>5.0</td>\n",
       "      <td>6</td>\n",
       "      <td>0</td>\n",
       "      <td>20</td>\n",
       "      <td>8</td>\n",
       "    </tr>\n",
       "    <tr>\n",
       "      <th>3</th>\n",
       "      <td>Classic Espresso Drinks</td>\n",
       "      <td>Caffè Latte</td>\n",
       "      <td>12</td>\n",
       "      <td>Nonfat</td>\n",
       "      <td>100</td>\n",
       "      <td>5.0</td>\n",
       "      <td>75</td>\n",
       "      <td>19.0</td>\n",
       "      <td>0.0</td>\n",
       "      <td>0.0</td>\n",
       "      <td>...</td>\n",
       "      <td>120</td>\n",
       "      <td>15</td>\n",
       "      <td>0</td>\n",
       "      <td>14</td>\n",
       "      <td>28.0</td>\n",
       "      <td>10.0</td>\n",
       "      <td>15</td>\n",
       "      <td>0</td>\n",
       "      <td>30</td>\n",
       "      <td>0</td>\n",
       "    </tr>\n",
       "    <tr>\n",
       "      <th>4</th>\n",
       "      <td>Classic Espresso Drinks</td>\n",
       "      <td>Caffè Latte</td>\n",
       "      <td>12</td>\n",
       "      <td>2%</td>\n",
       "      <td>150</td>\n",
       "      <td>8.0</td>\n",
       "      <td>75</td>\n",
       "      <td>19.0</td>\n",
       "      <td>6.0</td>\n",
       "      <td>8.0</td>\n",
       "      <td>...</td>\n",
       "      <td>135</td>\n",
       "      <td>15</td>\n",
       "      <td>0</td>\n",
       "      <td>14</td>\n",
       "      <td>28.0</td>\n",
       "      <td>10.0</td>\n",
       "      <td>15</td>\n",
       "      <td>0</td>\n",
       "      <td>30</td>\n",
       "      <td>0</td>\n",
       "    </tr>\n",
       "  </tbody>\n",
       "</table>\n",
       "<p>5 rows × 23 columns</p>\n",
       "</div>"
      ],
      "text/plain": [
       "                  category         name  size_oz milk_type  calories  \\\n",
       "0  Classic Espresso Drinks  Caffè Latte        8    Nonfat        70   \n",
       "1  Classic Espresso Drinks  Caffè Latte        8        2%       100   \n",
       "2  Classic Espresso Drinks  Caffè Latte        8       Soy        70   \n",
       "3  Classic Espresso Drinks  Caffè Latte       12    Nonfat       100   \n",
       "4  Classic Espresso Drinks  Caffè Latte       12        2%       150   \n",
       "\n",
       "   calories_%dv  caffeine_mg  caffeine_%dv  total_fat_g  fat_%dv  ...  \\\n",
       "0           4.0           75          19.0          0.0      0.0  ...   \n",
       "1           5.0           75          19.0          4.0      4.0  ...   \n",
       "2           4.0           75          19.0          2.0      3.0  ...   \n",
       "3           5.0           75          19.0          0.0      0.0  ...   \n",
       "4           8.0           75          19.0          6.0      8.0  ...   \n",
       "\n",
       "   carbs_g  chol_mg  fiber_g  sugars_g  sugars_%dv  protein_g  vit_a_%dv  \\\n",
       "0       75       10        0         9        18.0        6.0         10   \n",
       "1       85       10        0         9        18.0        6.0         10   \n",
       "2       65        6        1         4         8.0        5.0          6   \n",
       "3      120       15        0        14        28.0       10.0         15   \n",
       "4      135       15        0        14        28.0       10.0         15   \n",
       "\n",
       "   vit_c_%dv  calcium_%dv  iron_%dv  \n",
       "0          0           20         0  \n",
       "1          0           20         0  \n",
       "2          0           20         8  \n",
       "3          0           30         0  \n",
       "4          0           30         0  \n",
       "\n",
       "[5 rows x 23 columns]"
      ]
     },
     "execution_count": 2,
     "metadata": {},
     "output_type": "execute_result"
    }
   ],
   "source": [
    "# Bring up cleaned data set\n",
    "sb_prep = pd.read_csv(\"sb_clean.csv\")\n",
    "sb_prep.head()"
   ]
  },
  {
   "cell_type": "code",
   "execution_count": 3,
   "id": "46ec407c-ccd8-4b13-995e-c17c57585789",
   "metadata": {},
   "outputs": [
    {
     "name": "stderr",
     "output_type": "stream",
     "text": [
      "C:\\Users\\nari2\\AppData\\Local\\Temp\\ipykernel_16688\\1168846319.py:2: FutureWarning: The default value of regex will change from True to False in a future version.\n",
      "  sb_prep['name'] = sb_prep['name'].str.replace(r\"\\(.*\\)\",\"\")\n"
     ]
    }
   ],
   "source": [
    "# Equalize names by removing descriptors in parentheses\n",
    "sb_prep['name'] = sb_prep['name'].str.replace(r\"\\(.*\\)\",\"\")"
   ]
  },
  {
   "cell_type": "code",
   "execution_count": 4,
   "id": "babdc91d-cd3a-443e-86ba-654b7ea41dcc",
   "metadata": {},
   "outputs": [],
   "source": [
    "# Remove fancy accent marks\n",
    "sb_prep['name'] = sb_prep['name'].str.replace('è', 'e')"
   ]
  },
  {
   "cell_type": "code",
   "execution_count": 5,
   "id": "3664fef6-e345-4c71-bc51-68b386d2c23d",
   "metadata": {},
   "outputs": [
    {
     "data": {
      "text/plain": [
       "Caffe Latte                      12\n",
       "Tazo Chai Tea Latte              12\n",
       "Caffe Mocha                      12\n",
       "Iced Brewed Coffee               12\n",
       "Tazo Full-Leaf Red Tea Latte     12\n",
       "Tazo Green Tea Latte             12\n",
       "Coffee                           12\n",
       "Hot Chocolate                    12\n",
       "Caramel Macchiato                12\n",
       "Cappuccino                       12\n",
       "White Chocolate Mocha            12\n",
       "Vanilla Latte                    12\n",
       "Mocha                             9\n",
       "Strawberries & Creme              9\n",
       "Caramel                           9\n",
       "Java Chip                         9\n",
       "Vanilla Bean                      4\n",
       "Brewed Coffee                     4\n",
       "Caffe Americano                   4\n",
       "Skinny Latte                      4\n",
       "Caramel Apple Spice               4\n",
       "Strawberry Banana Smoothie        3\n",
       "Orange Mango Banana Smoothie      3\n",
       "Banana Chocolate Smoothie         3\n",
       "Mocha                             3\n",
       "Caramel                           3\n",
       "Java Chip                         3\n",
       "Shaken Iced Tazo Tea              1\n",
       "Name: name, dtype: int64"
      ]
     },
     "execution_count": 5,
     "metadata": {},
     "output_type": "execute_result"
    }
   ],
   "source": [
    "# Remove trademark\n",
    "sb_prep['name'] = sb_prep['name'].str.replace('®', '')\n",
    "sb_prep.name.value_counts()"
   ]
  },
  {
   "cell_type": "code",
   "execution_count": 6,
   "id": "983db2b7-ebc5-4970-b128-69d022b036b1",
   "metadata": {},
   "outputs": [],
   "source": [
    "# Remove whitespaces\n",
    "sb_prep['name'] = sb_prep['name'].str.strip() "
   ]
  },
  {
   "cell_type": "code",
   "execution_count": 7,
   "id": "f89763c4-dc4c-462c-8f6a-3c6c68966b9f",
   "metadata": {},
   "outputs": [
    {
     "name": "stdout",
     "output_type": "stream",
     "text": [
      "<class 'pandas.core.frame.DataFrame'>\n",
      "RangeIndex: 219 entries, 0 to 218\n",
      "Data columns (total 23 columns):\n",
      " #   Column        Non-Null Count  Dtype  \n",
      "---  ------        --------------  -----  \n",
      " 0   category      219 non-null    object \n",
      " 1   name          219 non-null    object \n",
      " 2   size_oz       219 non-null    object \n",
      " 3   milk_type     203 non-null    object \n",
      " 4   calories      219 non-null    int64  \n",
      " 5   calories_%dv  219 non-null    float64\n",
      " 6   caffeine_mg   219 non-null    int64  \n",
      " 7   caffeine_%dv  219 non-null    float64\n",
      " 8   total_fat_g   219 non-null    float64\n",
      " 9   fat_%dv       219 non-null    float64\n",
      " 10  trans_fat_g   219 non-null    float64\n",
      " 11  sat_fat_g     219 non-null    float64\n",
      " 12  sodium_mg     219 non-null    int64  \n",
      " 13  carbs_g       219 non-null    int64  \n",
      " 14  chol_mg       219 non-null    int64  \n",
      " 15  fiber_g       219 non-null    int64  \n",
      " 16  sugars_g      219 non-null    int64  \n",
      " 17  sugars_%dv    219 non-null    float64\n",
      " 18  protein_g     219 non-null    float64\n",
      " 19  vit_a_%dv     219 non-null    int64  \n",
      " 20  vit_c_%dv     219 non-null    int64  \n",
      " 21  calcium_%dv   219 non-null    int64  \n",
      " 22  iron_%dv      219 non-null    int64  \n",
      "dtypes: float64(8), int64(11), object(4)\n",
      "memory usage: 39.5+ KB\n"
     ]
    }
   ],
   "source": [
    "# Now, to actually DE-normalize some data so that the name column can become descriptive and unique for each record\n",
    "# First cast size_oz column as a string\n",
    "sb_prep['size_oz'] = sb_prep['size_oz'].apply(str)\n",
    "sb_prep.info()"
   ]
  },
  {
   "cell_type": "code",
   "execution_count": 8,
   "id": "1fee2a32-62ad-4a83-b27d-a6647439755c",
   "metadata": {},
   "outputs": [
    {
     "data": {
      "text/plain": [
       "Nonfat     79\n",
       "Soy        62\n",
       "2%         46\n",
       "Whole      16\n",
       "No_milk    16\n",
       "Name: milk_type, dtype: int64"
      ]
     },
     "execution_count": 8,
     "metadata": {},
     "output_type": "execute_result"
    }
   ],
   "source": [
    "# Next create a label for any drinks with 'NaN' as milk type\n",
    "sb_prep[\"milk_type\"] = sb_prep[\"milk_type\"].fillna(\"No_milk\") \n",
    "sb_prep[\"milk_type\"].value_counts(dropna = False)"
   ]
  },
  {
   "cell_type": "code",
   "execution_count": 9,
   "id": "38ca585a-a214-44bd-974a-010e7e820b16",
   "metadata": {},
   "outputs": [],
   "source": [
    "# And then create unique names for each drink\n",
    "sb_prep['prep_name'] = sb_prep['name'] + '_' + sb_prep['size_oz'] + '_' + sb_prep['milk_type']"
   ]
  },
  {
   "cell_type": "code",
   "execution_count": 10,
   "id": "ea5a142a-30fa-4b18-98cb-4142ef98ded7",
   "metadata": {},
   "outputs": [
    {
     "data": {
      "text/plain": [
       "<bound method IndexOpsMixin.value_counts of 0                Caffe Latte_8_Nonfat\n",
       "1                    Caffe Latte_8_2%\n",
       "2                   Caffe Latte_8_Soy\n",
       "3               Caffe Latte_12_Nonfat\n",
       "4                   Caffe Latte_12_2%\n",
       "                    ...              \n",
       "214    Caramel Apple Spice_16_No_milk\n",
       "215    Caramel Apple Spice_20_No_milk\n",
       "216     Iced Brewed Coffee_12_No_milk\n",
       "217     Iced Brewed Coffee_16_No_milk\n",
       "218     Iced Brewed Coffee_20_No_milk\n",
       "Name: prep_name, Length: 219, dtype: object>"
      ]
     },
     "execution_count": 10,
     "metadata": {},
     "output_type": "execute_result"
    }
   ],
   "source": [
    "sb_prep.prep_name.value_counts"
   ]
  },
  {
   "cell_type": "code",
   "execution_count": 13,
   "id": "4a21c0e1-5918-4636-8d92-55ff771854f4",
   "metadata": {},
   "outputs": [
    {
     "name": "stdout",
     "output_type": "stream",
     "text": [
      "<class 'pandas.core.frame.DataFrame'>\n",
      "RangeIndex: 219 entries, 0 to 218\n",
      "Data columns (total 5 columns):\n",
      " #   Column        Non-Null Count  Dtype  \n",
      "---  ------        --------------  -----  \n",
      " 0   prep_name     219 non-null    object \n",
      " 1   calories_%dv  219 non-null    float64\n",
      " 2   caffeine_%dv  219 non-null    float64\n",
      " 3   fat_%dv       219 non-null    float64\n",
      " 4   sugars_%dv    219 non-null    float64\n",
      "dtypes: float64(4), object(1)\n",
      "memory usage: 8.7+ KB\n"
     ]
    }
   ],
   "source": [
    "# Finally, create a smaller dataframe containing only columns of future interest\n",
    "sb_prep = sb_prep[[\"prep_name\", \"calories_%dv\", \"caffeine_%dv\", \"fat_%dv\", \"sugars_%dv\"]]\n",
    "sb_prep.info()"
   ]
  },
  {
   "cell_type": "code",
   "execution_count": 12,
   "id": "dfcd4bc1-f9d8-4c5c-a9ee-7b5d32809ae9",
   "metadata": {},
   "outputs": [],
   "source": [
    "# Export this beauty\n",
    "sb_prep.to_csv('sb_prep.csv', index = False)"
   ]
  },
  {
   "cell_type": "code",
   "execution_count": null,
   "id": "ca6ba760-6f35-47f2-a9d8-b831931680f9",
   "metadata": {},
   "outputs": [],
   "source": []
  }
 ],
 "metadata": {
  "kernelspec": {
   "display_name": "Python 3 (ipykernel)",
   "language": "python",
   "name": "python3"
  },
  "language_info": {
   "codemirror_mode": {
    "name": "ipython",
    "version": 3
   },
   "file_extension": ".py",
   "mimetype": "text/x-python",
   "name": "python",
   "nbconvert_exporter": "python",
   "pygments_lexer": "ipython3",
   "version": "3.8.8"
  }
 },
 "nbformat": 4,
 "nbformat_minor": 5
}
